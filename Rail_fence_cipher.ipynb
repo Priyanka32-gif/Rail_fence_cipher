{
 "cells": [
  {
   "cell_type": "code",
   "execution_count": 1,
   "id": "e55e6807",
   "metadata": {},
   "outputs": [],
   "source": [
    "import numpy as np"
   ]
  },
  {
   "cell_type": "code",
   "execution_count": 2,
   "id": "e7dc05c1",
   "metadata": {},
   "outputs": [],
   "source": [
    "def Rail_fence(depth,text):\n",
    "    t=''\n",
    "    i=j=0\n",
    "    cipher_txt = ''\n",
    "    drop_down = False\n",
    "    rail = np.array([[t for x in range(len(text))]for x in range(depth)])\n",
    "    \n",
    "    for i in range(len(text)):\n",
    "            rail[j][i] = text[i]\n",
    "            \n",
    "            if(j==depth-1):\n",
    "                drop_down = False\n",
    "            elif(j==0):\n",
    "                drop_down = True\n",
    "                \n",
    "            if(drop_down == True):\n",
    "                j += 1;\n",
    "            else:\n",
    "                j -= 1; \n",
    "                \n",
    "    for i in range(depth):\n",
    "        \n",
    "        for j in range(len(text)):\n",
    "            if (rail[i][j] != ''):\n",
    "                cipher_txt += rail[i][j]\n",
    "                \n",
    "    return cipher_txt"
   ]
  },
  {
   "cell_type": "code",
   "execution_count": 3,
   "id": "bb56b147",
   "metadata": {},
   "outputs": [
    {
     "data": {
      "text/plain": [
       "'atctak'"
      ]
     },
     "execution_count": 3,
     "metadata": {},
     "output_type": "execute_result"
    }
   ],
   "source": [
    "Rail_fence(2,'attack')"
   ]
  },
  {
   "cell_type": "code",
   "execution_count": 4,
   "id": "84512e60",
   "metadata": {},
   "outputs": [],
   "source": [
    "def decryption(depth,cipher_txt):\n",
    "    i=j=0\n",
    "    text = ''\n",
    "    t = ''\n",
    "    drop_down = False\n",
    "    rail = np.array([[t for x in range(len(cipher_txt))]for x in range(depth)])\n",
    "    \n",
    "    for i in range(len(cipher_txt)):\n",
    "            rail[j][i] = \"*\"\n",
    "            \n",
    "            if(j==depth-1):\n",
    "                drop_down = False\n",
    "            elif(j==0):\n",
    "                drop_down = True\n",
    "                \n",
    "            if(drop_down == True):\n",
    "                j += 1;\n",
    "            else:\n",
    "                j -= 1; \n",
    "    \n",
    "    index = 0\n",
    "    for i in range(depth):\n",
    "        \n",
    "        for j in range(len(cipher_txt)):\n",
    "            if (rail[i][j] == '*'):\n",
    "                rail[i][j] = cipher_txt[index]\n",
    "                index += 1\n",
    "    i=j=0          \n",
    "    for i in range(len(cipher_txt)):\n",
    "        \n",
    "        if(j==depth-1):\n",
    "                drop_down = False\n",
    "        elif(j==0):\n",
    "                drop_down = True\n",
    "                \n",
    "        text += rail[j][i] \n",
    "            \n",
    "                \n",
    "        if(drop_down == True):\n",
    "                j += 1;\n",
    "        else:\n",
    "                j -= 1; \n",
    "    \n",
    "        \n",
    "        \n",
    "    return text\n",
    "        \n",
    "    "
   ]
  },
  {
   "cell_type": "code",
   "execution_count": 5,
   "id": "ff7d70c3",
   "metadata": {},
   "outputs": [
    {
     "data": {
      "text/plain": [
       "'attack'"
      ]
     },
     "execution_count": 5,
     "metadata": {},
     "output_type": "execute_result"
    }
   ],
   "source": [
    "decryption(2,'atctak')"
   ]
  },
  {
   "cell_type": "code",
   "execution_count": null,
   "id": "abe785c0",
   "metadata": {},
   "outputs": [],
   "source": []
  },
  {
   "cell_type": "code",
   "execution_count": null,
   "id": "bb5cd215",
   "metadata": {},
   "outputs": [],
   "source": []
  }
 ],
 "metadata": {
  "kernelspec": {
   "display_name": "Python 3 (ipykernel)",
   "language": "python",
   "name": "python3"
  },
  "language_info": {
   "codemirror_mode": {
    "name": "ipython",
    "version": 3
   },
   "file_extension": ".py",
   "mimetype": "text/x-python",
   "name": "python",
   "nbconvert_exporter": "python",
   "pygments_lexer": "ipython3",
   "version": "3.9.5"
  }
 },
 "nbformat": 4,
 "nbformat_minor": 5
}
